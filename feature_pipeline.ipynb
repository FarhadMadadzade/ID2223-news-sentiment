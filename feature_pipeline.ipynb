{
 "cells": [
  {
   "cell_type": "code",
   "execution_count": 1,
   "metadata": {},
   "outputs": [
    {
     "name": "stderr",
     "output_type": "stream",
     "text": [
      "c:\\Users\\farha\\anaconda3\\envs\\news-sentiment\\lib\\site-packages\\tqdm\\auto.py:21: TqdmWarning: IProgress not found. Please update jupyter and ipywidgets. See https://ipywidgets.readthedocs.io/en/stable/user_install.html\n",
      "  from .autonotebook import tqdm as notebook_tqdm\n"
     ]
    }
   ],
   "source": [
    "import os\n",
    "import pandas as pd\n",
    "from datasets import load_dataset\n",
    "from transformers import GPT2TokenizerFast\n",
    "import torch\n",
    "import hopsworks\n",
    "from sklearn.model_selection import train_test_split"
   ]
  },
  {
   "cell_type": "code",
   "execution_count": 2,
   "metadata": {},
   "outputs": [
    {
     "name": "stderr",
     "output_type": "stream",
     "text": [
      "The tokenizer class you load from this checkpoint is not the same type as the class this function is called from. It may result in unexpected tokenization. \n",
      "The tokenizer class you load from this checkpoint is 'GPT4Tokenizer'. \n",
      "The class this function is called from is 'GPT2TokenizerFast'.\n"
     ]
    }
   ],
   "source": [
    "tokenizer = GPT2TokenizerFast.from_pretrained('Xenova/text-embedding-ada-002')"
   ]
  },
  {
   "cell_type": "markdown",
   "metadata": {},
   "source": [
    "## Functions"
   ]
  },
  {
   "cell_type": "code",
   "execution_count": 3,
   "metadata": {},
   "outputs": [],
   "source": [
    "def load_data(file_path):\n",
    "    data = pd.read_csv(file_path)\n",
    "    return data\n",
    "\n",
    "def get_embedding(dataset, embedding_object):\n",
    "    embeddings = []\n",
    "    for data in dataset[\"text\"]:\n",
    "        embedded_text = embedding_object.encode(data)\n",
    "        embeddings.append(embedded_text)\n",
    "\n",
    "    dataset_embedded = dataset.copy()\n",
    "    dataset_embedded[\"embeddings\"] = embeddings\n",
    "    dataset_embedded = dataset_embedded.drop(columns=[\"text\"])\n",
    "    return dataset_embedded"
   ]
  },
  {
   "cell_type": "code",
   "execution_count": 4,
   "metadata": {},
   "outputs": [],
   "source": [
    "financial_phrase_bank_df = load_data(os.path.join(\"base-data\", \"FinancialPhraseBank\", \"all-data-75-above.csv\"))\n",
    "zeroshot_train_df = load_data(os.path.join(\"base-data\", \"twitter-financial-news-sentiment\", \"sent_train.csv\"))\n",
    "zeroshot_test_df = load_data(os.path.join(\"base-data\", \"twitter-financial-news-sentiment\", \"sent_test.csv\"))"
   ]
  },
  {
   "cell_type": "code",
   "execution_count": 5,
   "metadata": {},
   "outputs": [],
   "source": [
    "\n",
    "# Assuming df1, df2, df3 are your dataframes\n",
    "df = pd.concat([financial_phrase_bank_df, zeroshot_train_df, zeroshot_test_df])\n",
    "\n",
    "# Get the count of each label\n",
    "label_counts = df['label'].value_counts()\n",
    "\n",
    "# Split the data\n",
    "X_train, X_test, y_train, y_test = train_test_split(df['text'], df['label'], test_size=0.2, stratify=df['label'])\n",
    "\n",
    "# Now, X_train and y_train contain the training data and their corresponding labels\n",
    "# X_test and y_test contain the test data and their corresponding labels"
   ]
  },
  {
   "cell_type": "markdown",
   "metadata": {},
   "source": [
    "## Sanity check of label distribution"
   ]
  },
  {
   "cell_type": "code",
   "execution_count": 6,
   "metadata": {},
   "outputs": [
    {
     "name": "stdout",
     "output_type": "stream",
     "text": [
      "label\n",
      "2        0.642886\n",
      "1        0.213537\n",
      "0        0.143577\n",
      "Name: count, dtype: float64\n",
      "label\n",
      "2        0.642834\n",
      "1        0.213520\n",
      "0        0.143646\n",
      "Name: count, dtype: float64\n"
     ]
    }
   ],
   "source": [
    "y_train_df = pd.DataFrame(y_train)\n",
    "train_value_counts= y_train_df.value_counts()\n",
    "# Get the percentage of each label in the training data\n",
    "print(train_value_counts / train_value_counts.sum())\n",
    "\n",
    "y_test_df = pd.DataFrame(y_test)\n",
    "test_value_counts= y_test_df.value_counts()\n",
    "print(test_value_counts / test_value_counts.sum())\n"
   ]
  },
  {
   "cell_type": "code",
   "execution_count": 7,
   "metadata": {},
   "outputs": [
    {
     "data": {
      "text/html": [
       "<div>\n",
       "<style scoped>\n",
       "    .dataframe tbody tr th:only-of-type {\n",
       "        vertical-align: middle;\n",
       "    }\n",
       "\n",
       "    .dataframe tbody tr th {\n",
       "        vertical-align: top;\n",
       "    }\n",
       "\n",
       "    .dataframe thead th {\n",
       "        text-align: right;\n",
       "    }\n",
       "</style>\n",
       "<table border=\"1\" class=\"dataframe\">\n",
       "  <thead>\n",
       "    <tr style=\"text-align: right;\">\n",
       "      <th></th>\n",
       "      <th>label</th>\n",
       "      <th>embeddings</th>\n",
       "    </tr>\n",
       "  </thead>\n",
       "  <tbody>\n",
       "    <tr>\n",
       "      <th>2984</th>\n",
       "      <td>2</td>\n",
       "      <td>[82478, 427, 309, 14966, 364, 82, 33956, 12466...</td>\n",
       "    </tr>\n",
       "    <tr>\n",
       "      <th>2395</th>\n",
       "      <td>2</td>\n",
       "      <td>[16648, 279, 3568, 1174, 14521, 8871, 690, 234...</td>\n",
       "    </tr>\n",
       "    <tr>\n",
       "      <th>187</th>\n",
       "      <td>0</td>\n",
       "      <td>[33, 41715, 12, 5159, 388, 2795, 9269, 315, 10...</td>\n",
       "    </tr>\n",
       "    <tr>\n",
       "      <th>626</th>\n",
       "      <td>2</td>\n",
       "      <td>[3, 34, 1112, 47, 482, 356, 13136, 11, 4953, 1...</td>\n",
       "    </tr>\n",
       "    <tr>\n",
       "      <th>6559</th>\n",
       "      <td>2</td>\n",
       "      <td>[39320, 819, 41420, 24190, 2019, 24854, 690, 2...</td>\n",
       "    </tr>\n",
       "    <tr>\n",
       "      <th>...</th>\n",
       "      <td>...</td>\n",
       "      <td>...</td>\n",
       "    </tr>\n",
       "    <tr>\n",
       "      <th>4875</th>\n",
       "      <td>2</td>\n",
       "      <td>[32723, 40, 11977, 682, 15167, 449, 469, 7939,...</td>\n",
       "    </tr>\n",
       "    <tr>\n",
       "      <th>1646</th>\n",
       "      <td>2</td>\n",
       "      <td>[2822, 21913, 3649, 1051, 36489, 662]</td>\n",
       "    </tr>\n",
       "    <tr>\n",
       "      <th>6182</th>\n",
       "      <td>0</td>\n",
       "      <td>[59562, 94963, 13020, 92887, 9511, 3157, 4787,...</td>\n",
       "    </tr>\n",
       "    <tr>\n",
       "      <th>105</th>\n",
       "      <td>0</td>\n",
       "      <td>[74872, 35374, 1523, 24228, 311, 4662, 505, 37...</td>\n",
       "    </tr>\n",
       "    <tr>\n",
       "      <th>3476</th>\n",
       "      <td>1</td>\n",
       "      <td>[38136, 3416, 15992, 19558, 46303, 3347, 1229,...</td>\n",
       "    </tr>\n",
       "  </tbody>\n",
       "</table>\n",
       "<p>12307 rows × 2 columns</p>\n",
       "</div>"
      ],
      "text/plain": [
       "      label                                         embeddings\n",
       "2984      2  [82478, 427, 309, 14966, 364, 82, 33956, 12466...\n",
       "2395      2  [16648, 279, 3568, 1174, 14521, 8871, 690, 234...\n",
       "187       0  [33, 41715, 12, 5159, 388, 2795, 9269, 315, 10...\n",
       "626       2  [3, 34, 1112, 47, 482, 356, 13136, 11, 4953, 1...\n",
       "6559      2  [39320, 819, 41420, 24190, 2019, 24854, 690, 2...\n",
       "...     ...                                                ...\n",
       "4875      2  [32723, 40, 11977, 682, 15167, 449, 469, 7939,...\n",
       "1646      2              [2822, 21913, 3649, 1051, 36489, 662]\n",
       "6182      0  [59562, 94963, 13020, 92887, 9511, 3157, 4787,...\n",
       "105       0  [74872, 35374, 1523, 24228, 311, 4662, 505, 37...\n",
       "3476      1  [38136, 3416, 15992, 19558, 46303, 3347, 1229,...\n",
       "\n",
       "[12307 rows x 2 columns]"
      ]
     },
     "execution_count": 7,
     "metadata": {},
     "output_type": "execute_result"
    }
   ],
   "source": [
    "train_dataset_df = pd.concat([X_train, y_train], axis=1)\n",
    "test_dataset_df = pd.concat([X_test, y_test], axis=1)\n",
    "\n",
    "train_dataset_df_embedded = get_embedding(train_dataset_df, tokenizer)\n",
    "test_dataset_df_embedded = get_embedding(test_dataset_df, tokenizer)\n",
    "\n",
    "train_dataset_df_embedded"
   ]
  },
  {
   "cell_type": "code",
   "execution_count": 8,
   "metadata": {},
   "outputs": [
    {
     "name": "stdout",
     "output_type": "stream",
     "text": [
      "Connected. Call `.close()` to terminate connection gracefully.\n",
      "\n",
      "Logged in to project, explore it here https://c.app.hopsworks.ai:443/p/197784\n",
      "Connected. Call `.close()` to terminate connection gracefully.\n"
     ]
    }
   ],
   "source": [
    "hopsworks_project = hopsworks.login() \n",
    "fs = hopsworks_project.get_feature_store()"
   ]
  },
  {
   "cell_type": "code",
   "execution_count": 9,
   "metadata": {},
   "outputs": [
    {
     "name": "stdout",
     "output_type": "stream",
     "text": [
      "Feature Group created successfully, explore it at \n",
      "https://c.app.hopsworks.ai:443/p/197784/fs/197703/fg/332115\n"
     ]
    },
    {
     "name": "stderr",
     "output_type": "stream",
     "text": [
      "Uploading Dataframe: 100.00% |██████████| Rows 12307/12307 | Elapsed Time: 00:08 | Remaining Time: 00:00\n"
     ]
    },
    {
     "name": "stdout",
     "output_type": "stream",
     "text": [
      "Launching job: news_sentiment_traindata_1_offline_fg_materialization\n",
      "Job started successfully, you can follow the progress at \n",
      "https://c.app.hopsworks.ai/p/197784/jobs/named/news_sentiment_traindata_1_offline_fg_materialization/executions\n"
     ]
    },
    {
     "data": {
      "text/plain": [
       "(<hsfs.core.job.Job at 0x1f6aea6fc70>, None)"
      ]
     },
     "execution_count": 9,
     "metadata": {},
     "output_type": "execute_result"
    }
   ],
   "source": [
    "fg_train = fs.get_or_create_feature_group(name=\"news_sentiment_traindata\", version=1, description=\"Training data and labels for financial news sentiment prediction model\", primary_key=[\"label\", \"embeddings\"], online_enabled=True)\n",
    "fg_train.insert(train_dataset_df_embedded)"
   ]
  },
  {
   "cell_type": "code",
   "execution_count": 10,
   "metadata": {},
   "outputs": [
    {
     "name": "stdout",
     "output_type": "stream",
     "text": [
      "Feature Group created successfully, explore it at \n",
      "https://c.app.hopsworks.ai:443/p/197784/fs/197703/fg/330098\n"
     ]
    },
    {
     "name": "stderr",
     "output_type": "stream",
     "text": [
      "Uploading Dataframe: 100.00% |██████████| Rows 3077/3077 | Elapsed Time: 00:06 | Remaining Time: 00:00\n"
     ]
    },
    {
     "name": "stdout",
     "output_type": "stream",
     "text": [
      "Launching job: news_sentiment_testdata_1_offline_fg_materialization\n",
      "Job started successfully, you can follow the progress at \n",
      "https://c.app.hopsworks.ai/p/197784/jobs/named/news_sentiment_testdata_1_offline_fg_materialization/executions\n"
     ]
    },
    {
     "data": {
      "text/plain": [
       "(<hsfs.core.job.Job at 0x1f6afd7ae80>, None)"
      ]
     },
     "execution_count": 10,
     "metadata": {},
     "output_type": "execute_result"
    }
   ],
   "source": [
    "fg_test = fs.get_or_create_feature_group(name=\"news_sentiment_testdata\", version=1, description=\"Test data and labels for financial news sentiment prediction model\", primary_key=[\"label\", \"embeddings\"], online_enabled=True)\n",
    "fg_test.insert(test_dataset_df_embedded)"
   ]
  }
 ],
 "metadata": {
  "kernelspec": {
   "display_name": "news-sentiment",
   "language": "python",
   "name": "python3"
  },
  "language_info": {
   "codemirror_mode": {
    "name": "ipython",
    "version": 3
   },
   "file_extension": ".py",
   "mimetype": "text/x-python",
   "name": "python",
   "nbconvert_exporter": "python",
   "pygments_lexer": "ipython3",
   "version": "3.8.18"
  }
 },
 "nbformat": 4,
 "nbformat_minor": 2
}
