{
 "cells": [
  {
   "cell_type": "code",
   "execution_count": 2,
   "metadata": {},
   "outputs": [
    {
     "name": "stderr",
     "output_type": "stream",
     "text": [
      "c:\\Users\\farha\\anaconda3\\envs\\news-sentiment\\lib\\site-packages\\tqdm\\auto.py:21: TqdmWarning: IProgress not found. Please update jupyter and ipywidgets. See https://ipywidgets.readthedocs.io/en/stable/user_install.html\n",
      "  from .autonotebook import tqdm as notebook_tqdm\n"
     ]
    }
   ],
   "source": [
    "import os\n",
    "import pandas as pd\n",
    "from datasets import load_dataset\n",
    "import torch\n"
   ]
  },
  {
   "cell_type": "markdown",
   "metadata": {},
   "source": [
    "## Functions"
   ]
  },
  {
   "cell_type": "code",
   "execution_count": 4,
   "metadata": {},
   "outputs": [],
   "source": [
    "def create_sentiment_csv(file_path, file_name='sentiment.csv'):\n",
    "    sentiment_map = {\"negative\": 0, \"positive\": 1, \"neutral\": 2}\n",
    "    data = []\n",
    "\n",
    "    with open(file_path, 'r', encoding=\"latin1\") as file:\n",
    "        for line in file:\n",
    "            sentence, sentiment = line.split(\"@\")\n",
    "            sentiment = sentiment.strip()  # remove any trailing whitespace\n",
    "            data.append([sentence, sentiment_map[sentiment]])\n",
    "\n",
    "    df = pd.DataFrame(data, columns=[\"text\", \"label\"])\n",
    "    df.to_csv(file_name, index=False, sep=',')\n",
    "\n",
    "def load_data(file_path):\n",
    "    data = pd.read_csv(file_path)\n",
    "    return data\n"
   ]
  },
  {
   "cell_type": "code",
   "execution_count": 5,
   "metadata": {},
   "outputs": [],
   "source": [
    "financial_phrase_bank_df = load_dataset(\"csv\", data_files=os.path.join(\"base-data\", \"FinancialPhraseBank\", \"all-data-75-above.csv\"))\n",
    "zeroshot_train_df = load_dataset(\"csv\", data_files=os.path.join(\"base-data\", \"twitter-financial-news-sentiment\", \"sent_train.csv\"))\n",
    "zeroshot_valid_df = load_dataset(\"csv\", data_files=os.path.join(\"base-data\", \"twitter-financial-news-sentiment\", \"sent_valid.csv\"))"
   ]
  }
 ],
 "metadata": {
  "kernelspec": {
   "display_name": "news-sentiment",
   "language": "python",
   "name": "python3"
  },
  "language_info": {
   "codemirror_mode": {
    "name": "ipython",
    "version": 3
   },
   "file_extension": ".py",
   "mimetype": "text/x-python",
   "name": "python",
   "nbconvert_exporter": "python",
   "pygments_lexer": "ipython3",
   "version": "3.8.18"
  }
 },
 "nbformat": 4,
 "nbformat_minor": 2
}
