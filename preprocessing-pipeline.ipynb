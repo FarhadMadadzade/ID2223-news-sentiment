{
 "cells": [
  {
   "cell_type": "code",
   "execution_count": 1,
   "metadata": {},
   "outputs": [
    {
     "name": "stderr",
     "output_type": "stream",
     "text": [
      "c:\\Users\\farha\\anaconda3\\envs\\news-sentiment\\lib\\site-packages\\tqdm\\auto.py:21: TqdmWarning: IProgress not found. Please update jupyter and ipywidgets. See https://ipywidgets.readthedocs.io/en/stable/user_install.html\n",
      "  from .autonotebook import tqdm as notebook_tqdm\n"
     ]
    }
   ],
   "source": [
    "import os\n",
    "import pandas as pd\n",
    "from datasets import load_dataset\n",
    "from transformers import GPT2TokenizerFast\n",
    "import torch\n",
    "import hopsworks\n"
   ]
  },
  {
   "cell_type": "markdown",
   "metadata": {},
   "source": [
    "## Functions"
   ]
  },
  {
   "cell_type": "code",
   "execution_count": 17,
   "metadata": {},
   "outputs": [],
   "source": [
    "def create_sentiment_csv(file_path, file_name='sentiment.csv'):\n",
    "    sentiment_map = {\"negative\": 0, \"positive\": 1, \"neutral\": 2}\n",
    "    data = []\n",
    "\n",
    "    with open(file_path, 'r', encoding=\"latin1\") as file:\n",
    "        for line in file:\n",
    "            sentence, sentiment = line.split(\"@\")\n",
    "            sentiment = sentiment.strip()  # remove any trailing whitespace\n",
    "            data.append([sentence, sentiment_map[sentiment]])\n",
    "\n",
    "    df = pd.DataFrame(data, columns=[\"text\", \"label\"])\n",
    "    df.to_csv(file_name, index=False, sep=',')\n",
    "\n",
    "def load_data(file_path):\n",
    "    data = pd.read_csv(file_path)\n",
    "    return data\n",
    "\n",
    "def get_embedding(dataset, embedding_object):\n",
    "    embeddings = []\n",
    "    for data in dataset[\"text\"]:\n",
    "        embedded_text = embedding_object.encode(data)\n",
    "        embeddings.append(embedded_text)\n",
    "\n",
    "    dataset_embedded = dataset.copy()\n",
    "    dataset_embedded[\"embeddings\"] = embeddings\n",
    "    dataset_embedded = dataset_embedded.drop(columns=[\"text\"])\n",
    "    return dataset_embedded\n",
    "\n",
    "def get_decoding(dataset, embedding_object):\n",
    "    decodings = []\n",
    "    for data in dataset[\"embeddings\"]:\n",
    "        decoded_text = embedding_object.decode(data)\n",
    "        decodings.append(decoded_text)\n",
    "\n",
    "    dataset_decoded = dataset.copy()\n",
    "    dataset_decoded[\"text\"] = decodings\n",
    "    dataset_decoded = dataset_decoded.drop(columns=[\"embeddings\"])\n",
    "    return dataset_decoded"
   ]
  },
  {
   "cell_type": "code",
   "execution_count": 3,
   "metadata": {},
   "outputs": [],
   "source": [
    "financial_phrase_bank_df = load_data(os.path.join(\"base-data\", \"FinancialPhraseBank\", \"all-data-75-above.csv\"))\n",
    "zeroshot_train_df = load_data(os.path.join(\"base-data\", \"twitter-financial-news-sentiment\", \"sent_train.csv\"))\n",
    "zeroshot_valid_df = load_data(os.path.join(\"base-data\", \"twitter-financial-news-sentiment\", \"sent_valid.csv\"))"
   ]
  },
  {
   "cell_type": "code",
   "execution_count": 4,
   "metadata": {},
   "outputs": [
    {
     "name": "stderr",
     "output_type": "stream",
     "text": [
      "The tokenizer class you load from this checkpoint is not the same type as the class this function is called from. It may result in unexpected tokenization. \n",
      "The tokenizer class you load from this checkpoint is 'GPT4Tokenizer'. \n",
      "The class this function is called from is 'GPT2TokenizerFast'.\n"
     ]
    }
   ],
   "source": [
    "tokenizer = GPT2TokenizerFast.from_pretrained('Xenova/text-embedding-ada-002')"
   ]
  },
  {
   "cell_type": "code",
   "execution_count": 5,
   "metadata": {},
   "outputs": [],
   "source": [
    "embedded_financial_phrase_bank_df = get_embedding(financial_phrase_bank_df, tokenizer)"
   ]
  },
  {
   "cell_type": "code",
   "execution_count": 6,
   "metadata": {},
   "outputs": [
    {
     "data": {
      "text/html": [
       "<div>\n",
       "<style scoped>\n",
       "    .dataframe tbody tr th:only-of-type {\n",
       "        vertical-align: middle;\n",
       "    }\n",
       "\n",
       "    .dataframe tbody tr th {\n",
       "        vertical-align: top;\n",
       "    }\n",
       "\n",
       "    .dataframe thead th {\n",
       "        text-align: right;\n",
       "    }\n",
       "</style>\n",
       "<table border=\"1\" class=\"dataframe\">\n",
       "  <thead>\n",
       "    <tr style=\"text-align: right;\">\n",
       "      <th></th>\n",
       "      <th>label</th>\n",
       "      <th>embeddings</th>\n",
       "    </tr>\n",
       "  </thead>\n",
       "  <tbody>\n",
       "    <tr>\n",
       "      <th>0</th>\n",
       "      <td>2</td>\n",
       "      <td>[11439, 311, 27622, 1174, 279, 2883, 706, 912,...</td>\n",
       "    </tr>\n",
       "    <tr>\n",
       "      <th>1</th>\n",
       "      <td>1</td>\n",
       "      <td>[2409, 279, 502, 5788, 6136, 279, 2883, 1053, ...</td>\n",
       "    </tr>\n",
       "    <tr>\n",
       "      <th>2</th>\n",
       "      <td>1</td>\n",
       "      <td>[2520, 279, 1566, 8502, 315, 220, 508, 605, 11...</td>\n",
       "    </tr>\n",
       "    <tr>\n",
       "      <th>3</th>\n",
       "      <td>1</td>\n",
       "      <td>[644, 279, 4948, 8502, 315, 220, 508, 605, 117...</td>\n",
       "    </tr>\n",
       "    <tr>\n",
       "      <th>4</th>\n",
       "      <td>1</td>\n",
       "      <td>[59247, 11626, 16392, 311, 38188, 220, 1032, 1...</td>\n",
       "    </tr>\n",
       "    <tr>\n",
       "      <th>...</th>\n",
       "      <td>...</td>\n",
       "      <td>...</td>\n",
       "    </tr>\n",
       "    <tr>\n",
       "      <th>3448</th>\n",
       "      <td>0</td>\n",
       "      <td>[59247, 1121, 369, 279, 220, 717, 12, 10460, 4...</td>\n",
       "    </tr>\n",
       "    <tr>\n",
       "      <th>3449</th>\n",
       "      <td>0</td>\n",
       "      <td>[1837, 7416, 11898, 40, 65332, 17961, 482, 452...</td>\n",
       "    </tr>\n",
       "    <tr>\n",
       "      <th>3450</th>\n",
       "      <td>0</td>\n",
       "      <td>[43, 87228, 8152, 14581, 1198, 12037, 7729, 96...</td>\n",
       "    </tr>\n",
       "    <tr>\n",
       "      <th>3451</th>\n",
       "      <td>0</td>\n",
       "      <td>[59247, 11626, 11299, 311, 38188, 220, 1758, 1...</td>\n",
       "    </tr>\n",
       "    <tr>\n",
       "      <th>3452</th>\n",
       "      <td>0</td>\n",
       "      <td>[36518, 304, 37355, 25983, 555, 220, 605, 13, ...</td>\n",
       "    </tr>\n",
       "  </tbody>\n",
       "</table>\n",
       "<p>3453 rows × 2 columns</p>\n",
       "</div>"
      ],
      "text/plain": [
       "      label                                         embeddings\n",
       "0         2  [11439, 311, 27622, 1174, 279, 2883, 706, 912,...\n",
       "1         1  [2409, 279, 502, 5788, 6136, 279, 2883, 1053, ...\n",
       "2         1  [2520, 279, 1566, 8502, 315, 220, 508, 605, 11...\n",
       "3         1  [644, 279, 4948, 8502, 315, 220, 508, 605, 117...\n",
       "4         1  [59247, 11626, 16392, 311, 38188, 220, 1032, 1...\n",
       "...     ...                                                ...\n",
       "3448      0  [59247, 1121, 369, 279, 220, 717, 12, 10460, 4...\n",
       "3449      0  [1837, 7416, 11898, 40, 65332, 17961, 482, 452...\n",
       "3450      0  [43, 87228, 8152, 14581, 1198, 12037, 7729, 96...\n",
       "3451      0  [59247, 11626, 11299, 311, 38188, 220, 1758, 1...\n",
       "3452      0  [36518, 304, 37355, 25983, 555, 220, 605, 13, ...\n",
       "\n",
       "[3453 rows x 2 columns]"
      ]
     },
     "execution_count": 6,
     "metadata": {},
     "output_type": "execute_result"
    }
   ],
   "source": [
    "embedded_financial_phrase_bank_df"
   ]
  },
  {
   "cell_type": "code",
   "execution_count": 7,
   "metadata": {},
   "outputs": [
    {
     "name": "stdout",
     "output_type": "stream",
     "text": [
      "Connected. Call `.close()` to terminate connection gracefully.\n",
      "\n",
      "Logged in to project, explore it here https://c.app.hopsworks.ai:443/p/197784\n",
      "Connected. Call `.close()` to terminate connection gracefully.\n"
     ]
    }
   ],
   "source": [
    "hopsworks_project = hopsworks.login() \n",
    "fs = hopsworks_project.get_feature_store()"
   ]
  },
  {
   "cell_type": "code",
   "execution_count": 10,
   "metadata": {},
   "outputs": [
    {
     "name": "stdout",
     "output_type": "stream",
     "text": [
      "Feature Group created successfully, explore it at \n",
      "https://c.app.hopsworks.ai:443/p/197784/fs/197703/fg/322918\n"
     ]
    },
    {
     "name": "stderr",
     "output_type": "stream",
     "text": [
      "Uploading Dataframe: 100.00% |██████████| Rows 3453/3453 | Elapsed Time: 00:06 | Remaining Time: 00:00\n"
     ]
    },
    {
     "name": "stdout",
     "output_type": "stream",
     "text": [
      "Launching job: test_1_offline_fg_materialization\n",
      "Job started successfully, you can follow the progress at \n",
      "https://c.app.hopsworks.ai/p/197784/jobs/named/test_1_offline_fg_materialization/executions\n"
     ]
    },
    {
     "data": {
      "text/plain": [
       "(<hsfs.core.job.Job at 0x1549023caf0>, None)"
      ]
     },
     "execution_count": 10,
     "metadata": {},
     "output_type": "execute_result"
    }
   ],
   "source": [
    "embedding_fg = fs.get_or_create_feature_group(name=\"test\", version=1, description=\"test\", primary_key=[\"label\", \"embeddings\"], online_enabled=True)\n",
    "embedding_fg.insert(embedded_financial_phrase_bank_df)"
   ]
  },
  {
   "cell_type": "code",
   "execution_count": 12,
   "metadata": {},
   "outputs": [
    {
     "name": "stdout",
     "output_type": "stream",
     "text": [
      "Connected. Call `.close()` to terminate connection gracefully.\n"
     ]
    }
   ],
   "source": [
    "connection = hopsworks.hsfs.connection()\n",
    "fs = connection.get_feature_store(name=\"id2223labs_featurestore\")\n",
    "fg = fs.get_feature_group('test', version=1)"
   ]
  },
  {
   "cell_type": "code",
   "execution_count": 16,
   "metadata": {},
   "outputs": [
    {
     "name": "stdout",
     "output_type": "stream",
     "text": [
      "Finished: Reading data from Hopsworks, using ArrowFlight (1.43s) \n"
     ]
    }
   ],
   "source": [
    "temp = fg.select([\"embeddings\", \"label\"]).show(5)"
   ]
  },
  {
   "cell_type": "markdown",
   "metadata": {},
   "source": [
    "From the original data:\n",
    "\n",
    "The company's order book stood at 1.5 bln euro \\$ 2.2 bln on September 30, 2007, up by 24.2 pct on the year, with international orders amounting to 365 mln euro \\$ 534.3 mln."
   ]
  },
  {
   "cell_type": "markdown",
   "metadata": {},
   "source": [
    "From the embedded data from the feature store:"
   ]
  },
  {
   "cell_type": "code",
   "execution_count": 25,
   "metadata": {},
   "outputs": [
    {
     "name": "stdout",
     "output_type": "stream",
     "text": [
      "The company's order book stood at 1.5 bln euro $ 2.2 bln on September 30, 2007, up by 24.2 pct on the year, with international orders amounting to 365 mln euro $ 534.3 mln.\n"
     ]
    }
   ],
   "source": [
    "decoded = get_decoding(temp, tokenizer)\n",
    "print(decoded[\"text\"][0])"
   ]
  }
 ],
 "metadata": {
  "kernelspec": {
   "display_name": "news-sentiment",
   "language": "python",
   "name": "python3"
  },
  "language_info": {
   "codemirror_mode": {
    "name": "ipython",
    "version": 3
   },
   "file_extension": ".py",
   "mimetype": "text/x-python",
   "name": "python",
   "nbconvert_exporter": "python",
   "pygments_lexer": "ipython3",
   "version": "3.8.18"
  }
 },
 "nbformat": 4,
 "nbformat_minor": 2
}
